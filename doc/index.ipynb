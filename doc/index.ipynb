{
  "cells": [
    {
      "cell_type": "raw",
      "metadata": {},
      "source": [
        "---\n",
        "title: \"Learning Rust\"\n",
        "author: \"Bernd Doser\"\n",
        "date: July 2022\n",
        "institute: HITS gGmbH\n",
        "format:\n",
        "  html:\n",
        "    toc: true\n",
        "    highlight-style: a11y\n",
        "---"
      ],
      "id": "93578d1d"
    },
    {
      "cell_type": "markdown",
      "metadata": {},
      "source": [
        "## Generic\n",
        "\n",
        "\n",
        "```{Rust}\n",
        "pub fn square<T>(num: T) -> T where T: Mul<Output = T> + Copy {\n",
        "    num * num\n",
        "}\n",
        "```"
      ],
      "id": "42bcbe75"
    }
  ],
  "metadata": {
    "kernelspec": {
      "display_name": "Python 3",
      "language": "python",
      "name": "python3"
    }
  },
  "nbformat": 4,
  "nbformat_minor": 5
}